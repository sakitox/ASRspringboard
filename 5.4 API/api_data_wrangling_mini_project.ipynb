{
 "cells": [
  {
   "cell_type": "markdown",
   "metadata": {},
   "source": [
    "This exercise will require you to pull some data from the Qunadl API. Qaundl is currently the most widely used aggregator of financial market data."
   ]
  },
  {
   "cell_type": "markdown",
   "metadata": {},
   "source": [
    "As a first step, you will need to register a free account on the http://www.quandl.com website."
   ]
  },
  {
   "cell_type": "markdown",
   "metadata": {},
   "source": [
    "After you register, you will be provided with a unique API key, that you should store:"
   ]
  },
  {
   "cell_type": "code",
   "execution_count": 1,
   "metadata": {},
   "outputs": [],
   "source": [
    "# Store the API key as a string - according to PEP8, constants are always named in all upper case\n",
    "API_KEY = 'c8AKu8muj82ZcJZfeVoU'"
   ]
  },
  {
   "cell_type": "markdown",
   "metadata": {},
   "source": [
    "Qaundl has a large number of data sources, but, unfortunately, most of them require a Premium subscription. Still, there are also a good number of free datasets."
   ]
  },
  {
   "cell_type": "markdown",
   "metadata": {},
   "source": [
    "For this mini project, we will focus on equities data from the Frankfurt Stock Exhange (FSE), which is available for free. We'll try and analyze the stock prices of a company called Carl Zeiss Meditec, which manufactures tools for eye examinations, as well as medical lasers for laser eye surgery: https://www.zeiss.com/meditec/int/home.html. The company is listed under the stock ticker AFX_X."
   ]
  },
  {
   "cell_type": "markdown",
   "metadata": {},
   "source": [
    "You can find the detailed Quandl API instructions here: https://docs.quandl.com/docs/time-series"
   ]
  },
  {
   "cell_type": "markdown",
   "metadata": {},
   "source": [
    "While there is a dedicated Python package for connecting to the Quandl API, we would prefer that you use the *requests* package, which can be easily downloaded using *pip* or *conda*. You can find the documentation for the package here: http://docs.python-requests.org/en/master/ "
   ]
  },
  {
   "cell_type": "markdown",
   "metadata": {},
   "source": [
    "Finally, apart from the *requests* package, you are encouraged to not use any third party Python packages, such as *pandas*, and instead focus on what's available in the Python Standard Library (the *collections* module might come in handy: https://pymotw.com/3/collections/ ).\n",
    "Also, since you won't have access to DataFrames, you are encouraged to us Python's native data structures - preferably dictionaries, though some questions can also be answered using lists.\n",
    "You can read more on these data structures here: https://docs.python.org/3/tutorial/datastructures.html"
   ]
  },
  {
   "cell_type": "markdown",
   "metadata": {},
   "source": [
    "Keep in mind that the JSON responses you will be getting from the API map almost one-to-one to Python's dictionaries. Unfortunately, they can be very nested, so make sure you read up on indexing dictionaries in the documentation provided above."
   ]
  },
  {
   "cell_type": "code",
   "execution_count": 2,
   "metadata": {},
   "outputs": [],
   "source": [
    "# First, import the relevant modules\n",
    "import operator\n",
    "import requests\n",
    "from statistics import mean"
   ]
  },
  {
   "cell_type": "code",
   "execution_count": 3,
   "metadata": {},
   "outputs": [
    {
     "name": "stdout",
     "output_type": "stream",
     "text": [
      "{'dataset': {'id': 10095370, 'dataset_code': 'AFX_X', 'database_code': 'FSE', 'name': 'Carl Zeiss Meditec (AFX_X)', 'description': 'Stock Prices for Carl Zeiss Meditec (2019-10-31) from the Frankfurt Stock Exchange.<br><br>Trading System: Xetra<br><br>ISIN: DE0005313704', 'refreshed_at': '2019-11-14T22:19:07.556Z', 'newest_available_date': '2019-11-14', 'oldest_available_date': '2000-06-07', 'column_names': ['Date', 'Open', 'High', 'Low', 'Close', 'Change', 'Traded Volume', 'Turnover', 'Last Price of the Day', 'Daily Traded Units', 'Daily Turnover'], 'frequency': 'daily', 'type': 'Time Series', 'premium': False, 'limit': None, 'transform': None, 'column_index': None, 'start_date': '2014-01-01', 'end_date': '2014-01-02', 'data': [['2014-01-02', 24.24, 24.76, 23.77, 24.18, None, 55735.0, 1355658.0, None, None, None]], 'collapse': None, 'order': None, 'database_id': 6129}}\n"
     ]
    }
   ],
   "source": [
    "# Now, call the Quandl API and pull out a small sample of the data (only one day) to get a glimpse\n",
    "# into the JSON structure that will be returned\n",
    "r = requests.get('https://www.quandl.com/api/v3/datasets/FSE/AFX_X.json?start_date=2014-01-01&end_date=2014-01-02api_key='+API_KEY)\n",
    "print(r.json())"
   ]
  },
  {
   "cell_type": "code",
   "execution_count": 4,
   "metadata": {},
   "outputs": [],
   "source": [
    "# Inspect the JSON structure of the object you created, and take note of how nested it is,\n",
    "# as well as the overall structure\n",
    "#{'dataset': \n",
    " #   {'id': 10095370, \n",
    "  #  'dataset_code': 'AFX_X', \n",
    "   # 'database_code': 'FSE', \n",
    "    #'name': 'Carl Zeiss Meditec (AFX_X)',\n",
    "     #'description': 'Stock Prices for Carl Zeiss Meditec (2019-10-31) from the Frankfurt Stock Exchange.<br><br>Trading System: Xetra<br><br>ISIN: DE0005313704',\n",
    "  #    'refreshed_at': '2019-11-14T22:19:07.556Z',\n",
    "   #    'newest_available_date': '2019-11-14',\n",
    "    #    'oldest_available_date': '2000-06-07',\n",
    "     #    'column_names': ['Date', 'Open', 'High', 'Low', 'Close', 'Change', 'Traded Volume', 'Turnover', 'Last Price of the Day', 'Daily Traded Units', 'Daily Turnover'],\n",
    "      #    'frequency': 'daily', \n",
    "       #   'type': 'Time Series',\n",
    "        #   'premium': False, \n",
    "         #  'limit': None,\n",
    "    #        'transform': None,\n",
    "     #        'column_index': None,\n",
    "      #        'start_date': '2014-01-01',\n",
    "       #        'end_date': '2014-01-02', \n",
    "        #       'data': [['2014-01-02', 24.24, 24.76, 23.77, 24.18, None, 55735.0, 1355658.0, None, None, None]], \n",
    "         #      'collapse': None, \n",
    "          #     'order': None, \n",
    "           #    'database_id': 6129}}\n"
   ]
  },
  {
   "cell_type": "markdown",
   "metadata": {},
   "source": [
    "These are your tasks for this mini project:\n",
    "\n",
    "1. Collect data from the Franfurt Stock Exchange, for the ticker AFX_X, for the whole year 2017 (keep in mind that the date format is YYYY-MM-DD). DONE\n",
    "2. Convert the returned JSON object into a Python dictionary. DONE\n",
    "3. Calculate what the highest and lowest opening prices were for the stock in this period. DONE\n",
    "4. What was the largest change in any one day (based on High and Low price)? DONE\n",
    "5. What was the largest change between any two days (based on Closing Price)? DONE\n",
    "6. What was the average daily trading volume during this year? DONE\n",
    "7. (Optional) What was the median trading volume during this year. (Note: you may need to implement your own function for calculating the median.)"
   ]
  },
  {
   "cell_type": "code",
   "execution_count": 16,
   "metadata": {},
   "outputs": [],
   "source": [
    "r = requests.get('https://www.quandl.com/api/v3/datasets/FSE/AFX_X.json?start_date=2017-01-01&end_date=2017-12-31api_key='+API_KEY)\n",
    "r = r.json()['dataset']['data']\n",
    "dic = {}\n",
    "for i in r:\n",
    "    key, value = i[0], i[1:7]\n",
    "    dic[key] = value"
   ]
  },
  {
   "cell_type": "code",
   "execution_count": 21,
   "metadata": {},
   "outputs": [],
   "source": [
    "hi_dic = {}\n",
    "lo_dic = {}\n",
    "ch_dic = {}\n",
    "close_dic = {}\n",
    "vol = {}\n",
    "for i in dic:\n",
    "    hi, lo, clo ,volu = dic[i][1], dic[i][2], dic[i][3], dic[i][5]\n",
    "    hi_dic[i] = hi\n",
    "    lo_dic[i] = lo\n",
    "    ch_dic[i] = hi - lo\n",
    "    close_dic[i] = clo\n",
    "    vol[i] = volu"
   ]
  },
  {
   "cell_type": "code",
   "execution_count": 22,
   "metadata": {},
   "outputs": [],
   "source": [
    "hi_key = max(hi_dic, key=hi_dic.get)\n",
    "lo_key = min(lo_dic, key=lo_dic.get)\n",
    "ch_key = max(ch_dic, key=ch_dic.get)"
   ]
  },
  {
   "cell_type": "code",
   "execution_count": 61,
   "metadata": {},
   "outputs": [],
   "source": [
    "temp = []\n",
    "temp2=[]\n",
    "for key, value in close_dic.items():\n",
    "    temp.append(value)\n",
    "for i in range(len(temp)):\n",
    "    temp2.append(temp[i]-temp[i-2])\n",
    "maxclose = max(temp2[2:])"
   ]
  },
  {
   "cell_type": "code",
   "execution_count": 62,
   "metadata": {},
   "outputs": [
    {
     "name": "stdout",
     "output_type": "stream",
     "text": [
      "This is the max stock price: 53.54\n",
      "This is the min stock price: 33.62\n",
      "This is the max spread price: 2.8100000000000023\n",
      "The mean traded volume is: 89124\n",
      "The max change in close price over 2 days is: 3.1499999999999986\n"
     ]
    }
   ],
   "source": [
    "print('This is the max stock price: ' + str(hi_dic[hi_key]))\n",
    "print('This is the min stock price: ' + str(lo_dic[lo_key]))\n",
    "print('This is the max spread price: ' + str(ch_dic[ch_key]))\n",
    "print('The mean traded volume is: ' + str(int(mean(vol[i] for i in vol))))\n",
    "print('The max change in close price over 2 days is: ' + str(maxclose))"
   ]
  }
 ],
 "metadata": {
  "kernelspec": {
   "display_name": "Python 3",
   "language": "python",
   "name": "python3"
  },
  "language_info": {
   "codemirror_mode": {
    "name": "ipython",
    "version": 3
   },
   "file_extension": ".py",
   "mimetype": "text/x-python",
   "name": "python",
   "nbconvert_exporter": "python",
   "pygments_lexer": "ipython3",
   "version": "3.7.3"
  }
 },
 "nbformat": 4,
 "nbformat_minor": 2
}
