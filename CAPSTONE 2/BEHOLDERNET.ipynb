{
  "nbformat": 4,
  "nbformat_minor": 0,
  "metadata": {
    "kernelspec": {
      "display_name": "Python 3",
      "language": "python",
      "name": "python3"
    },
    "language_info": {
      "codemirror_mode": {
        "name": "ipython",
        "version": 3
      },
      "file_extension": ".py",
      "mimetype": "text/x-python",
      "name": "python",
      "nbconvert_exporter": "python",
      "pygments_lexer": "ipython3",
      "version": "3.8.3rc1"
    },
    "colab": {
      "name": "BEHOLDERNET.ipynb",
      "provenance": [],
      "collapsed_sections": [],
      "machine_shape": "hm"
    },
    "accelerator": "GPU"
  },
  "cells": [
    {
      "cell_type": "code",
      "metadata": {
        "id": "zeCnXUyVMnjW",
        "colab_type": "code",
        "colab": {}
      },
      "source": [
        "import os\n",
        "import time\n",
        "import numpy as np\n",
        "import pandas as pd\n",
        "import tensorflow as tf\n",
        "from tensorflow.keras.layers import Dense,GlobalMaxPooling2D,Dropout,Flatten,BatchNormalization,Activation\n",
        "from tensorflow.keras.applications import NASNetLarge,VGG19\n",
        "from tensorflow.keras.preprocessing import image\n",
        "from tensorflow.keras.applications import imagenet_utils\n",
        "from tensorflow.keras.applications.nasnet import preprocess_input\n",
        "from tensorflow.keras.preprocessing.image import img_to_array,load_img,ImageDataGenerator\n",
        "from tensorflow.keras.callbacks import ModelCheckpoint\n",
        "from tensorflow.keras.models import Model, load_model\n",
        "from tensorflow.keras.optimizers import Adam\n",
        "from tensorflow.keras import backend as K"
      ],
      "execution_count": null,
      "outputs": []
    },
    {
      "cell_type": "code",
      "metadata": {
        "id": "7q86ZXseNHlG",
        "colab_type": "code",
        "colab": {
          "base_uri": "https://localhost:8080/",
          "height": 122
        },
        "outputId": "09a8ca89-763b-4cbd-e8de-d0ea8d2658bf"
      },
      "source": [
        "from google.colab import drive\n",
        "drive.mount(\"/content/drive\", force_remount=True)"
      ],
      "execution_count": null,
      "outputs": [
        {
          "output_type": "stream",
          "text": [
            "Go to this URL in a browser: https://accounts.google.com/o/oauth2/auth?client_id=947318989803-6bn6qk8qdgf4n4g3pfee6491hc0brc4i.apps.googleusercontent.com&redirect_uri=urn%3aietf%3awg%3aoauth%3a2.0%3aoob&response_type=code&scope=email%20https%3a%2f%2fwww.googleapis.com%2fauth%2fdocs.test%20https%3a%2f%2fwww.googleapis.com%2fauth%2fdrive%20https%3a%2f%2fwww.googleapis.com%2fauth%2fdrive.photos.readonly%20https%3a%2f%2fwww.googleapis.com%2fauth%2fpeopleapi.readonly\n",
            "\n",
            "Enter your authorization code:\n",
            "··········\n",
            "Mounted at /content/drive\n"
          ],
          "name": "stdout"
        }
      ]
    },
    {
      "cell_type": "code",
      "metadata": {
        "id": "4AtvltgGMH_r",
        "colab_type": "code",
        "colab": {
          "base_uri": "https://localhost:8080/",
          "height": 34
        },
        "outputId": "f1d10143-da41-449a-d231-ae9818093a0b"
      },
      "source": [
        "!ls"
      ],
      "execution_count": null,
      "outputs": [
        {
          "output_type": "stream",
          "text": [
            "drive  sample_data\n"
          ],
          "name": "stdout"
        }
      ]
    },
    {
      "cell_type": "code",
      "metadata": {
        "id": "2nWU48JAMnjY",
        "colab_type": "code",
        "colab": {}
      },
      "source": [
        "folder = './drive/My Drive/Colab/datasets'\n",
        "batch_size1=20"
      ],
      "execution_count": null,
      "outputs": []
    },
    {
      "cell_type": "code",
      "metadata": {
        "id": "uJjAfTdzMnja",
        "colab_type": "code",
        "colab": {}
      },
      "source": [
        "train_label_df = pd.read_csv(folder + '/All_Ratings.csv', delimiter=',', header=None, names=['id', 'score'])"
      ],
      "execution_count": null,
      "outputs": []
    },
    {
      "cell_type": "code",
      "metadata": {
        "id": "4Kv475xiMnjc",
        "colab_type": "code",
        "colab": {
          "base_uri": "https://localhost:8080/",
          "height": 170
        },
        "outputId": "bbae8e5f-d571-47e0-899f-1de92d6cc45c"
      },
      "source": [
        "train_label_df.info()"
      ],
      "execution_count": null,
      "outputs": [
        {
          "output_type": "stream",
          "text": [
            "<class 'pandas.core.frame.DataFrame'>\n",
            "RangeIndex: 7816 entries, 0 to 7815\n",
            "Data columns (total 2 columns):\n",
            " #   Column  Non-Null Count  Dtype  \n",
            "---  ------  --------------  -----  \n",
            " 0   id      7816 non-null   object \n",
            " 1   score   7816 non-null   float64\n",
            "dtypes: float64(1), object(1)\n",
            "memory usage: 122.2+ KB\n"
          ],
          "name": "stdout"
        }
      ]
    },
    {
      "cell_type": "code",
      "metadata": {
        "id": "ZsaKlzPjMnjd",
        "colab_type": "code",
        "colab": {}
      },
      "source": [
        "train_datagen = ImageDataGenerator(rescale = 1./331, horizontal_flip = True,\n",
        "                                   fill_mode = \"nearest\", zoom_range = 0.2,\n",
        "                                   width_shift_range = 0.2, height_shift_range=0.2,\n",
        "                                   rotation_range=10, validation_split= 0.3,\n",
        "                                   preprocessing_function=preprocess_input) "
      ],
      "execution_count": null,
      "outputs": []
    },
    {
      "cell_type": "code",
      "metadata": {
        "id": "6J88BMVPMnjf",
        "colab_type": "code",
        "colab": {
          "base_uri": "https://localhost:8080/",
          "height": 34
        },
        "outputId": "ab073c45-634a-42e1-d7de-3d55c83ff602"
      },
      "source": [
        "train_generator = train_datagen.flow_from_dataframe(dataframe=train_label_df, directory=folder + '/img', \n",
        "                                              x_col=\"id\", y_col=\"score\", has_ext=True, \n",
        "                                              class_mode='raw', target_size=(331, 331), \n",
        "                                              batch_size=batch_size1,subset='training',\n",
        "                                              shuffle=True, interpolation='lanczos')"
      ],
      "execution_count": null,
      "outputs": [
        {
          "output_type": "stream",
          "text": [
            "Found 5472 validated image filenames.\n"
          ],
          "name": "stdout"
        }
      ]
    },
    {
      "cell_type": "code",
      "metadata": {
        "id": "xCnpCpLEMnjh",
        "colab_type": "code",
        "colab": {
          "base_uri": "https://localhost:8080/",
          "height": 34
        },
        "outputId": "14ab6cc3-6ff3-42cb-97df-4707a265894c"
      },
      "source": [
        "validation_generator = train_datagen.flow_from_dataframe(dataframe=train_label_df, directory=folder + '/img', \n",
        "                                              x_col=\"id\", y_col=\"score\", has_ext=True, \n",
        "                                              class_mode='raw', target_size=(331, 331), \n",
        "                                              batch_size=batch_size1,subset='validation',\n",
        "                                              shuffle=True, interpolation='lanczos')"
      ],
      "execution_count": null,
      "outputs": [
        {
          "output_type": "stream",
          "text": [
            "Found 2344 validated image filenames.\n"
          ],
          "name": "stdout"
        }
      ]
    },
    {
      "cell_type": "code",
      "metadata": {
        "id": "HGaRdHqnqW36",
        "colab_type": "code",
        "colab": {
          "base_uri": "https://localhost:8080/",
          "height": 34
        },
        "outputId": "a269d8bb-97a8-4361-8c6d-32c9f9e60409"
      },
      "source": [
        "pretrained_model = NASNetLarge(\n",
        "      weights=None, \n",
        "      include_top=False, \n",
        "      input_shape=(331, 331, 3))\n",
        "\n",
        "model = tf.keras.Sequential([\n",
        "            pretrained_model,\n",
        "            GlobalMaxPooling2D(),\n",
        "            Dense(1000),\n",
        "            BatchNormalization(),\n",
        "            Activation('relu'),\n",
        "            Dropout(0.5),\n",
        "            Dense(250),\n",
        "            BatchNormalization(),\n",
        "            Activation('relu'),\n",
        "            Dropout(0.5),\n",
        "            Dense(1, activation='linear')])\n",
        "\n",
        "print(\"Done.\")"
      ],
      "execution_count": null,
      "outputs": [
        {
          "output_type": "stream",
          "text": [
            "Done.\n"
          ],
          "name": "stdout"
        }
      ]
    },
    {
      "cell_type": "code",
      "metadata": {
        "id": "61Qi0YEeMnj7",
        "colab_type": "code",
        "colab": {}
      },
      "source": [
        "checkpoint = ModelCheckpoint('./drive/My Drive/Colab/GPU/model-{epoch:03d}-{loss:03f}-{val_loss:03f}.h5', verbose=1, monitor='val_loss',save_best_only=True, mode='min')"
      ],
      "execution_count": null,
      "outputs": []
    },
    {
      "cell_type": "code",
      "metadata": {
        "id": "RoV00WqYyqZA",
        "colab_type": "code",
        "colab": {}
      },
      "source": [
        "model.load_weights('./drive/My Drive/Colab/1Cycle/model-138-0.630001-0.430507.h5')"
      ],
      "execution_count": null,
      "outputs": []
    },
    {
      "cell_type": "code",
      "metadata": {
        "id": "He1NIIP7RHfM",
        "colab_type": "code",
        "colab": {}
      },
      "source": [
        "for layer in model.layers[:-10]:\n",
        "    layer.trainable = False"
      ],
      "execution_count": null,
      "outputs": []
    },
    {
      "cell_type": "code",
      "metadata": {
        "id": "7VpOAUpXPfda",
        "colab_type": "code",
        "colab": {
          "base_uri": "https://localhost:8080/",
          "height": 527
        },
        "outputId": "2c893b8d-32f3-41e3-dc26-8d09fbd22d90"
      },
      "source": [
        "model.summary()"
      ],
      "execution_count": null,
      "outputs": [
        {
          "output_type": "stream",
          "text": [
            "Model: \"sequential\"\n",
            "_________________________________________________________________\n",
            "Layer (type)                 Output Shape              Param #   \n",
            "=================================================================\n",
            "NASNet (Model)               (None, 11, 11, 4032)      84916818  \n",
            "_________________________________________________________________\n",
            "global_max_pooling2d (Global (None, 4032)              0         \n",
            "_________________________________________________________________\n",
            "dense (Dense)                (None, 1000)              4033000   \n",
            "_________________________________________________________________\n",
            "batch_normalization (BatchNo (None, 1000)              4000      \n",
            "_________________________________________________________________\n",
            "activation_260 (Activation)  (None, 1000)              0         \n",
            "_________________________________________________________________\n",
            "dropout (Dropout)            (None, 1000)              0         \n",
            "_________________________________________________________________\n",
            "dense_1 (Dense)              (None, 250)               250250    \n",
            "_________________________________________________________________\n",
            "batch_normalization_1 (Batch (None, 250)               1000      \n",
            "_________________________________________________________________\n",
            "activation_261 (Activation)  (None, 250)               0         \n",
            "_________________________________________________________________\n",
            "dropout_1 (Dropout)          (None, 250)               0         \n",
            "_________________________________________________________________\n",
            "dense_2 (Dense)              (None, 1)                 251       \n",
            "=================================================================\n",
            "Total params: 89,205,319\n",
            "Trainable params: 89,006,151\n",
            "Non-trainable params: 199,168\n",
            "_________________________________________________________________\n"
          ],
          "name": "stdout"
        }
      ]
    },
    {
      "cell_type": "code",
      "metadata": {
        "id": "o2DvcqtPSwfz",
        "colab_type": "code",
        "colab": {}
      },
      "source": [
        "model.compile(optimizer='Adam', loss='mean_squared_error', metrics=['mean_absolute_error','mean_absolute_percentage_error'])"
      ],
      "execution_count": null,
      "outputs": []
    },
    {
      "cell_type": "code",
      "metadata": {
        "scrolled": true,
        "id": "2TOz2QAUMnjy",
        "colab_type": "code",
        "colab": {
          "base_uri": "https://localhost:8080/",
          "height": 765
        },
        "outputId": "87e330dc-e3d2-40cf-baa0-e67ddda7f79e"
      },
      "source": [
        "model.fit(train_generator,\n",
        "        steps_per_epoch = len(train_generator),\n",
        "        epochs=100,\n",
        "        validation_data=validation_generator,\n",
        "        validation_steps=len((validation_generator)),\n",
        "        callbacks=[checkpoint])"
      ],
      "execution_count": null,
      "outputs": [
        {
          "output_type": "stream",
          "text": [
            "Epoch 1/100\n",
            "274/274 [==============================] - ETA: 0s - loss: 2.3981 - mean_absolute_error: 1.2361 - mean_absolute_percentage_error: 24.5997\n",
            "Epoch 00001: val_loss improved from inf to 134760142261982697267952226846900224.00000, saving model to ./drive/My Drive/Colab/GPU/model-001-2.398095-134760142261982697267952226846900224.000000.h5\n",
            "274/274 [==============================] - 2661s 10s/step - loss: 2.3981 - mean_absolute_error: 1.2361 - mean_absolute_percentage_error: 24.5997 - val_loss: 134760142261982697267952226846900224.0000 - val_mean_absolute_error: 367093912805834752.0000 - val_mean_absolute_percentage_error: 7425193887150374912.0000\n",
            "Epoch 2/100\n",
            "274/274 [==============================] - ETA: 0s - loss: 1.9440 - mean_absolute_error: 1.1153 - mean_absolute_percentage_error: 22.4673\n",
            "Epoch 00002: val_loss improved from 134760142261982697267952226846900224.00000 to 40431166248901934051895293524312064.00000, saving model to ./drive/My Drive/Colab/GPU/model-002-1.943996-40431166248901934051895293524312064.000000.h5\n",
            "274/274 [==============================] - 576s 2s/step - loss: 1.9440 - mean_absolute_error: 1.1153 - mean_absolute_percentage_error: 22.4673 - val_loss: 40431166248901934051895293524312064.0000 - val_mean_absolute_error: 200851706056015872.0000 - val_mean_absolute_percentage_error: 4062768857033474048.0000\n",
            "Epoch 3/100\n",
            "274/274 [==============================] - ETA: 0s - loss: 2.1329 - mean_absolute_error: 1.1597 - mean_absolute_percentage_error: 23.4119\n",
            "Epoch 00003: val_loss improved from 40431166248901934051895293524312064.00000 to 1127157558882256147461073409146880.00000, saving model to ./drive/My Drive/Colab/GPU/model-003-2.132902-1127157558882256147461073409146880.000000.h5\n",
            "274/274 [==============================] - 576s 2s/step - loss: 2.1329 - mean_absolute_error: 1.1597 - mean_absolute_percentage_error: 23.4119 - val_loss: 1127157558882256147461073409146880.0000 - val_mean_absolute_error: 33572777952804864.0000 - val_mean_absolute_percentage_error: 679109852202532864.0000\n",
            "Epoch 4/100\n",
            "274/274 [==============================] - ETA: 0s - loss: 2.0066 - mean_absolute_error: 1.1300 - mean_absolute_percentage_error: 22.6309\n",
            "Epoch 00004: val_loss did not improve from 1127157558882256147461073409146880.00000\n",
            "274/274 [==============================] - 566s 2s/step - loss: 2.0066 - mean_absolute_error: 1.1300 - mean_absolute_percentage_error: 22.6309 - val_loss: inf - val_mean_absolute_error: 19101848934505932390400.0000 - val_mean_absolute_percentage_error: 386395481344694521167872.0000\n",
            "Epoch 5/100\n",
            "274/274 [==============================] - ETA: 0s - loss: 1.8717 - mean_absolute_error: 1.1009 - mean_absolute_percentage_error: 22.3408\n",
            "Epoch 00005: val_loss improved from 1127157558882256147461073409146880.00000 to 10807092023601949493064359739392.00000, saving model to ./drive/My Drive/Colab/GPU/model-005-1.871665-10807092023601949493064359739392.000000.h5\n",
            "274/274 [==============================] - 575s 2s/step - loss: 1.8717 - mean_absolute_error: 1.1009 - mean_absolute_percentage_error: 22.3408 - val_loss: 10807092023601949493064359739392.0000 - val_mean_absolute_error: 3287160199315456.0000 - val_mean_absolute_percentage_error: 66501727423037440.0000\n",
            "Epoch 6/100\n",
            "274/274 [==============================] - ETA: 0s - loss: 1.9298 - mean_absolute_error: 1.1145 - mean_absolute_percentage_error: 22.4781\n",
            "Epoch 00006: val_loss did not improve from 10807092023601949493064359739392.00000\n",
            "274/274 [==============================] - 567s 2s/step - loss: 1.9298 - mean_absolute_error: 1.1145 - mean_absolute_percentage_error: 22.4781 - val_loss: 146856227233218133155212452429824.0000 - val_mean_absolute_error: 12044975936110592.0000 - val_mean_absolute_percentage_error: 243103945046622208.0000\n",
            "Epoch 7/100\n",
            "274/274 [==============================] - ETA: 0s - loss: 1.8924 - mean_absolute_error: 1.1067 - mean_absolute_percentage_error: 22.3906\n",
            "Epoch 00007: val_loss did not improve from 10807092023601949493064359739392.00000\n",
            "274/274 [==============================] - 568s 2s/step - loss: 1.8924 - mean_absolute_error: 1.1067 - mean_absolute_percentage_error: 22.3906 - val_loss: inf - val_mean_absolute_error: 5145700124340518912.0000 - val_mean_absolute_percentage_error: 104102297479506034688.0000\n",
            "Epoch 8/100\n",
            "274/274 [==============================] - ETA: 0s - loss: 1.9293 - mean_absolute_error: 1.1173 - mean_absolute_percentage_error: 22.6204\n",
            "Epoch 00008: val_loss improved from 10807092023601949493064359739392.00000 to 45191049680040250835145326592.00000, saving model to ./drive/My Drive/Colab/GPU/model-008-1.929297-45191049680040250835145326592.000000.h5\n",
            "274/274 [==============================] - 578s 2s/step - loss: 1.9293 - mean_absolute_error: 1.1173 - mean_absolute_percentage_error: 22.6204 - val_loss: 45191049680040250835145326592.0000 - val_mean_absolute_error: 212571353251840.0000 - val_mean_absolute_percentage_error: 4299488285949952.0000\n",
            "Epoch 9/100\n",
            "274/274 [==============================] - ETA: 0s - loss: 1.8497 - mean_absolute_error: 1.0952 - mean_absolute_percentage_error: 22.1853\n",
            "Epoch 00009: val_loss did not improve from 45191049680040250835145326592.00000\n",
            "274/274 [==============================] - 568s 2s/step - loss: 1.8497 - mean_absolute_error: 1.0952 - mean_absolute_percentage_error: 22.1853 - val_loss: inf - val_mean_absolute_error: 602354113698594816.0000 - val_mean_absolute_percentage_error: 12183504728944017408.0000\n",
            "Epoch 10/100\n",
            "274/274 [==============================] - ETA: 0s - loss: 1.7777 - mean_absolute_error: 1.0771 - mean_absolute_percentage_error: 21.8591\n",
            "Epoch 00010: val_loss did not improve from 45191049680040250835145326592.00000\n",
            "274/274 [==============================] - 568s 2s/step - loss: 1.7777 - mean_absolute_error: 1.0771 - mean_absolute_percentage_error: 21.8591 - val_loss: 417610019816385761393959357120512.0000 - val_mean_absolute_error: 20434430044667904.0000 - val_mean_absolute_percentage_error: 413305080851202048.0000\n",
            "Epoch 11/100\n",
            " 38/274 [===>..........................] - ETA: 7:02 - loss: 1.7080 - mean_absolute_error: 1.0581 - mean_absolute_percentage_error: 21.3795"
          ],
          "name": "stdout"
        }
      ]
    },
    {
      "cell_type": "code",
      "metadata": {
        "id": "aDnHkVIKPCR8",
        "colab_type": "code",
        "colab": {}
      },
      "source": [
        ""
      ],
      "execution_count": null,
      "outputs": []
    }
  ]
}